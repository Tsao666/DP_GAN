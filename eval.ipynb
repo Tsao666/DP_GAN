{
 "cells": [
  {
   "cell_type": "code",
   "execution_count": 1,
   "metadata": {},
   "outputs": [],
   "source": [
    "import os\n",
    "import subprocess"
   ]
  },
  {
   "cell_type": "code",
   "execution_count": 2,
   "metadata": {},
   "outputs": [],
   "source": [
    "testing_RI_folder = f'/datasets/UAV/34_Competition 1_Training dataset/Training dataset/test_img/RI'\n",
    "testing_RO_folder = f'/datasets/UAV/34_Competition 1_Training dataset/Training dataset/test_img/RO'"
   ]
  },
  {
   "cell_type": "code",
   "execution_count": 13,
   "metadata": {},
   "outputs": [
    {
     "name": "stderr",
     "output_type": "stream",
     "text": [
      "100%|██████████| 9/9 [00:00<00:00, 14.16it/s]\n",
      "100%|██████████| 9/9 [00:00<00:00, 18.60it/s]\n",
      "100%|██████████| 9/9 [00:00<00:00, 13.39it/s]\n",
      "100%|██████████| 9/9 [00:00<00:00, 19.03it/s]\n"
     ]
    },
    {
     "data": {
      "text/plain": [
       "(142.19907449800118, 176.4513382410699, 159.32520636953552)"
      ]
     },
     "execution_count": 13,
     "metadata": {},
     "output_type": "execute_result"
    }
   ],
   "source": [
    "run_name = 'UAV'\n",
    "ckpt = 'best'\n",
    "\n",
    "result_folder = f'./results/{run_name}/{ckpt}/image'\n",
    "result_RI_folder = f'{result_folder}/RI'\n",
    "result_RO_folder = f'{result_folder}/RO'\n",
    "\n",
    "if not os.path.isdir(result_RI_folder):\n",
    "    os.mkdir(result_RI_folder)\n",
    "\n",
    "if not os.path.isdir(result_RO_folder):\n",
    "    os.mkdir(result_RO_folder)\n",
    "\n",
    "for f in os.listdir(result_folder):\n",
    "    if '.' in f:\n",
    "        os.rename(f'{result_folder}/{f}', f\"{result_folder}/{f.split('_')[1]}/{f}\")\n",
    "\n",
    "\n",
    "FID_RI = float(subprocess.run(['python', '-m', 'pytorch_fid', result_RI_folder, testing_RI_folder], stdout=subprocess.PIPE).stdout.decode().split(':')[1])\n",
    "FID_RO = float(subprocess.run(['python', '-m', 'pytorch_fid', result_RO_folder, testing_RO_folder], stdout=subprocess.PIPE).stdout.decode().split(':')[1])\n",
    "\n",
    "FID_RI, FID_RO, (FID_RI + FID_RO) / 2"
   ]
  }
 ],
 "metadata": {
  "kernelspec": {
   "display_name": "Python 3",
   "language": "python",
   "name": "python3"
  },
  "language_info": {
   "codemirror_mode": {
    "name": "ipython",
    "version": 3
   },
   "file_extension": ".py",
   "mimetype": "text/x-python",
   "name": "python",
   "nbconvert_exporter": "python",
   "pygments_lexer": "ipython3",
   "version": "3.11.0"
  }
 },
 "nbformat": 4,
 "nbformat_minor": 2
}
