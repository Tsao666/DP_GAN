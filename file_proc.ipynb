{
 "cells": [
  {
   "cell_type": "code",
   "execution_count": 2,
   "metadata": {},
   "outputs": [],
   "source": [
    "from IPython.display import display\n",
    "import os\n",
    "import shutil\n",
    "import pandas as pd\n",
    "import numpy as np"
   ]
  },
  {
   "cell_type": "code",
   "execution_count": 2,
   "metadata": {},
   "outputs": [
    {
     "data": {
      "text/plain": [
       "'/datasets/UAV/34_Competition 1_Training dataset/Training dataset/label_img'"
      ]
     },
     "execution_count": 2,
     "metadata": {},
     "output_type": "execute_result"
    }
   ],
   "source": [
    "data_path = '/datasets/UAV/34_Competition 1_Training dataset/Training dataset'\n",
    "train_path = f'{data_path}/img'\n",
    "label_path = f'{data_path}/label_img'\n",
    "split_test_path = f'{data_path}/test_img'\n",
    "\n",
    "label_path"
   ]
  },
  {
   "cell_type": "code",
   "execution_count": 3,
   "metadata": {},
   "outputs": [
    {
     "name": "stderr",
     "output_type": "stream",
     "text": [
      "/tmp/ipykernel_3197219/3176498983.py:6: DeprecationWarning: DataFrameGroupBy.apply operated on the grouping columns. This behavior is deprecated, and in a future version of pandas the grouping columns will be excluded from the operation. Either pass `include_groups=False` to exclude the groupings or explicitly select the grouping columns after groupby to silence this warning.\n",
      "  train_index = df.groupby('class').apply(lambda x: x.sample(frac=.8, random_state=42)[['data']]).reset_index()['level_1'].tolist()\n"
     ]
    },
    {
     "data": {
      "text/html": [
       "<div>\n",
       "<style scoped>\n",
       "    .dataframe tbody tr th:only-of-type {\n",
       "        vertical-align: middle;\n",
       "    }\n",
       "\n",
       "    .dataframe tbody tr th {\n",
       "        vertical-align: top;\n",
       "    }\n",
       "\n",
       "    .dataframe thead th {\n",
       "        text-align: right;\n",
       "    }\n",
       "</style>\n",
       "<table border=\"1\" class=\"dataframe\">\n",
       "  <thead>\n",
       "    <tr style=\"text-align: right;\">\n",
       "      <th></th>\n",
       "      <th></th>\n",
       "      <th>data</th>\n",
       "      <th>label</th>\n",
       "    </tr>\n",
       "    <tr>\n",
       "      <th>class</th>\n",
       "      <th>set_name</th>\n",
       "      <th></th>\n",
       "      <th></th>\n",
       "    </tr>\n",
       "  </thead>\n",
       "  <tbody>\n",
       "    <tr>\n",
       "      <th rowspan=\"2\" valign=\"top\">RI</th>\n",
       "      <th>test</th>\n",
       "      <td>432</td>\n",
       "      <td>432</td>\n",
       "    </tr>\n",
       "    <tr>\n",
       "      <th>train</th>\n",
       "      <td>1728</td>\n",
       "      <td>1728</td>\n",
       "    </tr>\n",
       "    <tr>\n",
       "      <th rowspan=\"2\" valign=\"top\">RO</th>\n",
       "      <th>test</th>\n",
       "      <td>432</td>\n",
       "      <td>432</td>\n",
       "    </tr>\n",
       "    <tr>\n",
       "      <th>train</th>\n",
       "      <td>1728</td>\n",
       "      <td>1728</td>\n",
       "    </tr>\n",
       "  </tbody>\n",
       "</table>\n",
       "</div>"
      ],
      "text/plain": [
       "                data  label\n",
       "class set_name             \n",
       "RI    test       432    432\n",
       "      train     1728   1728\n",
       "RO    test       432    432\n",
       "      train     1728   1728"
      ]
     },
     "metadata": {},
     "output_type": "display_data"
    },
    {
     "data": {
      "text/html": [
       "<div>\n",
       "<style scoped>\n",
       "    .dataframe tbody tr th:only-of-type {\n",
       "        vertical-align: middle;\n",
       "    }\n",
       "\n",
       "    .dataframe tbody tr th {\n",
       "        vertical-align: top;\n",
       "    }\n",
       "\n",
       "    .dataframe thead th {\n",
       "        text-align: right;\n",
       "    }\n",
       "</style>\n",
       "<table border=\"1\" class=\"dataframe\">\n",
       "  <thead>\n",
       "    <tr style=\"text-align: right;\">\n",
       "      <th></th>\n",
       "      <th>data</th>\n",
       "      <th>label</th>\n",
       "      <th>class</th>\n",
       "      <th>set_name</th>\n",
       "    </tr>\n",
       "  </thead>\n",
       "  <tbody>\n",
       "    <tr>\n",
       "      <th>0</th>\n",
       "      <td>TRA_RI_1000000.jpg</td>\n",
       "      <td>TRA_RI_1000000.png</td>\n",
       "      <td>RI</td>\n",
       "      <td>train</td>\n",
       "    </tr>\n",
       "    <tr>\n",
       "      <th>1</th>\n",
       "      <td>TRA_RI_1000001.jpg</td>\n",
       "      <td>TRA_RI_1000001.png</td>\n",
       "      <td>RI</td>\n",
       "      <td>test</td>\n",
       "    </tr>\n",
       "    <tr>\n",
       "      <th>2</th>\n",
       "      <td>TRA_RI_1000002.jpg</td>\n",
       "      <td>TRA_RI_1000002.png</td>\n",
       "      <td>RI</td>\n",
       "      <td>train</td>\n",
       "    </tr>\n",
       "    <tr>\n",
       "      <th>3</th>\n",
       "      <td>TRA_RI_1000003.jpg</td>\n",
       "      <td>TRA_RI_1000003.png</td>\n",
       "      <td>RI</td>\n",
       "      <td>train</td>\n",
       "    </tr>\n",
       "    <tr>\n",
       "      <th>4</th>\n",
       "      <td>TRA_RI_1000004.jpg</td>\n",
       "      <td>TRA_RI_1000004.png</td>\n",
       "      <td>RI</td>\n",
       "      <td>train</td>\n",
       "    </tr>\n",
       "    <tr>\n",
       "      <th>...</th>\n",
       "      <td>...</td>\n",
       "      <td>...</td>\n",
       "      <td>...</td>\n",
       "      <td>...</td>\n",
       "    </tr>\n",
       "    <tr>\n",
       "      <th>4315</th>\n",
       "      <td>TRA_RO_1004315.jpg</td>\n",
       "      <td>TRA_RO_1004315.png</td>\n",
       "      <td>RO</td>\n",
       "      <td>train</td>\n",
       "    </tr>\n",
       "    <tr>\n",
       "      <th>4316</th>\n",
       "      <td>TRA_RO_1004316.jpg</td>\n",
       "      <td>TRA_RO_1004316.png</td>\n",
       "      <td>RO</td>\n",
       "      <td>train</td>\n",
       "    </tr>\n",
       "    <tr>\n",
       "      <th>4317</th>\n",
       "      <td>TRA_RO_1004317.jpg</td>\n",
       "      <td>TRA_RO_1004317.png</td>\n",
       "      <td>RO</td>\n",
       "      <td>train</td>\n",
       "    </tr>\n",
       "    <tr>\n",
       "      <th>4318</th>\n",
       "      <td>TRA_RO_1004318.jpg</td>\n",
       "      <td>TRA_RO_1004318.png</td>\n",
       "      <td>RO</td>\n",
       "      <td>train</td>\n",
       "    </tr>\n",
       "    <tr>\n",
       "      <th>4319</th>\n",
       "      <td>TRA_RO_1004319.jpg</td>\n",
       "      <td>TRA_RO_1004319.png</td>\n",
       "      <td>RO</td>\n",
       "      <td>train</td>\n",
       "    </tr>\n",
       "  </tbody>\n",
       "</table>\n",
       "<p>4320 rows × 4 columns</p>\n",
       "</div>"
      ],
      "text/plain": [
       "                    data               label class set_name\n",
       "0     TRA_RI_1000000.jpg  TRA_RI_1000000.png    RI    train\n",
       "1     TRA_RI_1000001.jpg  TRA_RI_1000001.png    RI     test\n",
       "2     TRA_RI_1000002.jpg  TRA_RI_1000002.png    RI    train\n",
       "3     TRA_RI_1000003.jpg  TRA_RI_1000003.png    RI    train\n",
       "4     TRA_RI_1000004.jpg  TRA_RI_1000004.png    RI    train\n",
       "...                  ...                 ...   ...      ...\n",
       "4315  TRA_RO_1004315.jpg  TRA_RO_1004315.png    RO    train\n",
       "4316  TRA_RO_1004316.jpg  TRA_RO_1004316.png    RO    train\n",
       "4317  TRA_RO_1004317.jpg  TRA_RO_1004317.png    RO    train\n",
       "4318  TRA_RO_1004318.jpg  TRA_RO_1004318.png    RO    train\n",
       "4319  TRA_RO_1004319.jpg  TRA_RO_1004319.png    RO    train\n",
       "\n",
       "[4320 rows x 4 columns]"
      ]
     },
     "execution_count": 3,
     "metadata": {},
     "output_type": "execute_result"
    }
   ],
   "source": [
    "if not os.path.isdir(split_test_path):\n",
    "    os.mkdir(split_test_path)\n",
    "df = pd.DataFrame({'data': sorted(os.listdir(train_path)), 'label': sorted(os.listdir(label_path))})\n",
    "df['class'] = df['data'].apply(lambda x: x.split('_')[1])\n",
    "df['set_name'] = None\n",
    "train_index = df.groupby('class').apply(lambda x: x.sample(frac=.8, random_state=42)[['data']]).reset_index()['level_1'].tolist()\n",
    "df.loc[train_index, 'set_name'] = 'train'\n",
    "df['set_name'] = df['set_name'].fillna('test')\n",
    "display(df.groupby(['class', 'set_name']).count())\n",
    "df[df['set_name'].eq('test')]['data'].apply(lambda x: shutil.copy(f'{train_path}/{x}', f'{split_test_path}/{x}'))\n",
    "# df.to_csv('train_34.csv', index=False)\n",
    "df\n"
   ]
  },
  {
   "cell_type": "code",
   "execution_count": 3,
   "metadata": {},
   "outputs": [
    {
     "data": {
      "text/plain": [
       "'/app/DP_GAN/UAV_instance_512_z128_400.zip'"
      ]
     },
     "execution_count": 3,
     "metadata": {},
     "output_type": "execute_result"
    }
   ],
   "source": [
    "folder = 'private'\n",
    "name = 'UAV_instance_512_z128_400'\n",
    "shutil.make_archive(name, 'zip', f'./{folder}/{name}/best/image')"
   ]
  },
  {
   "cell_type": "code",
   "execution_count": 3,
   "metadata": {},
   "outputs": [
    {
     "data": {
      "text/plain": [
       "'/app/DP_GAN/gen.zip'"
      ]
     },
     "execution_count": 3,
     "metadata": {},
     "output_type": "execute_result"
    }
   ],
   "source": [
    "shutil.make_archive('gen', 'zip', '/app/DP_GAN/private/UAV_instance_512_z128_400/best/gen_label')"
   ]
  },
  {
   "cell_type": "code",
   "execution_count": 4,
   "metadata": {},
   "outputs": [
    {
     "data": {
      "text/plain": [
       "'/app/DP_GAN/ensemble4.zip'"
      ]
     },
     "execution_count": 4,
     "metadata": {},
     "output_type": "execute_result"
    }
   ],
   "source": [
    "shutil.make_archive('ensemble4', 'zip', 'ensemble4')"
   ]
  },
  {
   "cell_type": "code",
   "execution_count": null,
   "metadata": {},
   "outputs": [],
   "source": []
  }
 ],
 "metadata": {
  "kernelspec": {
   "display_name": "Python 3",
   "language": "python",
   "name": "python3"
  },
  "language_info": {
   "codemirror_mode": {
    "name": "ipython",
    "version": 3
   },
   "file_extension": ".py",
   "mimetype": "text/x-python",
   "name": "python",
   "nbconvert_exporter": "python",
   "pygments_lexer": "ipython3",
   "version": "3.11.0"
  }
 },
 "nbformat": 4,
 "nbformat_minor": 2
}
